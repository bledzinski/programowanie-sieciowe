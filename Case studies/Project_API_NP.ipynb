{
 "cells": [
  {
   "cell_type": "markdown",
   "metadata": {},
   "source": [
    "# Network Programmability API's"
   ]
  },
  {
   "cell_type": "markdown",
   "metadata": {},
   "source": [
    "## JSON and XML"
   ]
  },
  {
   "cell_type": "markdown",
   "metadata": {},
   "source": [
    "## Part I- JSON"
   ]
  },
  {
   "cell_type": "markdown",
   "metadata": {},
   "source": [
    "#### Basics of JSON objects using JSON module in Python. Useful when it comes to working with an NXOS APIs which are returning data in JSON."
   ]
  },
  {
   "cell_type": "markdown",
   "metadata": {},
   "source": [
    "### Intro\n",
    "\n",
    "Compare dictionary object key-value pairs with JSON name-value pairs"
   ]
  },
  {
   "cell_type": "code",
   "execution_count": 4,
   "metadata": {},
   "outputs": [
    {
     "name": "stdout",
     "output_type": "stream",
     "text": [
      "<class 'dict'>\n"
     ]
    }
   ],
   "source": [
    "neighbor = {'hostname': 'nxos2', 'os': 'nx-os', 'model': '9396'}\n",
    "print(type(neighbor))\n"
   ]
  },
  {
   "cell_type": "markdown",
   "metadata": {},
   "source": [
    "#### Dumping data"
   ]
  },
  {
   "cell_type": "markdown",
   "metadata": {},
   "source": [
    "\n",
    "Dump JSON data with: \n",
    "\n",
    "```python\n",
    "print(json.dumps(neighbor, indent=4))\n",
    "```\n",
    "\n",
    "*dump prints in a formatted way"
   ]
  },
  {
   "cell_type": "code",
   "execution_count": 5,
   "metadata": {},
   "outputs": [],
   "source": [
    "import json\n",
    "\n",
    "data = (json.dumps(neighbor, indent=4))"
   ]
  },
  {
   "cell_type": "code",
   "execution_count": 7,
   "metadata": {},
   "outputs": [
    {
     "name": "stdout",
     "output_type": "stream",
     "text": [
      "{\n",
      "    \"hostname\": \"nxos2\",\n",
      "    \"os\": \"nx-os\",\n",
      "    \"model\": \"9396\"\n",
      "}\n"
     ]
    }
   ],
   "source": [
    "print (data)"
   ]
  },
  {
   "cell_type": "markdown",
   "metadata": {},
   "source": [
    "\n",
    "<div style=\"text-align: right\">  \n",
    "Q&A (Question and Answer):\n",
    "    \n",
    "    Q: What type is this JSON dump?\n",
    "\n",
    "    A: Wybiera obiekt i zamienia go na stringa.\n",
    "</div>\n"
   ]
  },
  {
   "cell_type": "markdown",
   "metadata": {},
   "source": [
    "#### Loading data"
   ]
  },
  {
   "cell_type": "markdown",
   "metadata": {},
   "source": [
    "Use json.loads() method to load a JSON **string** and make it a **dictionary**."
   ]
  },
  {
   "cell_type": "code",
   "execution_count": 11,
   "metadata": {},
   "outputs": [],
   "source": [
    "data_dict = json.loads(data)"
   ]
  },
  {
   "cell_type": "code",
   "execution_count": 12,
   "metadata": {},
   "outputs": [
    {
     "data": {
      "text/plain": [
       "'nx-os'"
      ]
     },
     "execution_count": 12,
     "metadata": {},
     "output_type": "execute_result"
    }
   ],
   "source": [
    "data_dict['os']"
   ]
  },
  {
   "cell_type": "code",
   "execution_count": 11,
   "metadata": {},
   "outputs": [
    {
     "ename": "TypeError",
     "evalue": "string indices must be integers",
     "output_type": "error",
     "traceback": [
      "\u001b[0;31m---------------------------------------------------------------------------\u001b[0m",
      "\u001b[0;31mTypeError\u001b[0m                                 Traceback (most recent call last)",
      "\u001b[0;32m<ipython-input-11-097a127ad8a8>\u001b[0m in \u001b[0;36m<module>\u001b[0;34m()\u001b[0m\n\u001b[0;32m----> 1\u001b[0;31m \u001b[0mdata\u001b[0m\u001b[0;34m[\u001b[0m\u001b[0;34m'os'\u001b[0m\u001b[0;34m]\u001b[0m\u001b[0;34m\u001b[0m\u001b[0m\n\u001b[0m",
      "\u001b[0;31mTypeError\u001b[0m: string indices must be integers"
     ]
    }
   ],
   "source": [
    "data['os']"
   ]
  },
  {
   "cell_type": "markdown",
   "metadata": {},
   "source": [
    "<div style=\"text-align: right\">  \n",
    "Q: Why can't you access the \"os\" from \"data\" variable?\n",
    "\n",
    "    A: Ponieważ ładowanie pliku JSONa przypisane jest do zmiennej data_dict a nie data.\n",
    "</div>"
   ]
  },
  {
   "cell_type": "markdown",
   "metadata": {},
   "source": [
    "##### Important: API returns **data as a JSON string**. In this case use json.loads to work with API responses. Also remember that the opposite way with API request where where **dump** is needed to create an appropriate JSON format and later send it. "
   ]
  },
  {
   "cell_type": "markdown",
   "metadata": {},
   "source": [
    " "
   ]
  },
  {
   "cell_type": "markdown",
   "metadata": {},
   "source": [
    " "
   ]
  },
  {
   "cell_type": "markdown",
   "metadata": {},
   "source": [
    "### Warm up\n",
    "\n",
    "\n",
    "\n",
    "NX-OS CLI JSON output using `json` or `json-pretty` keyword obtained by SSH to nxosv switch and executing the command, *`show version | json-pretty`*.\n",
    "\n",
    "\n",
    "```\n",
    "BRU-AP1-LEAF1# show version | json-pretty \n",
    "{\n",
    "    \"header_str\": \"Cisco Nexus Operating System (NX-OS) Software\\nTAC support: http://www.cisco.com/tac\\nCopyright (C) 2002-2018, Cisco and/or its affiliates.\\nAll rights reserved.\\nThe\n",
    " copyrights to certain works contained in this software are\\nowned by other third parties and used and distributed under their own\\nlicenses, such as open source.  This software is prov\n",
    "ided \\\"as is,\\\" and unless\\notherwise stated, there is no warranty, express or implied, including but not\\nlimited to warranties of merchantability and fitness for a particular purpose.\n",
    "\\nCertain components of this software are licensed under\\nthe GNU General Public License (GPL) version 2.0 or \\nGNU General Public License (GPL) version 3.0  or the GNU\\nLesser General \n",
    "Public License (LGPL) Version 2.1 or \\nLesser General Public License (LGPL) Version 2.0. \\nA copy of each such license is available at\\nhttp://www.opensource.org/licenses/gpl-2.0.php an\n",
    "d\\nhttp://opensource.org/licenses/gpl-3.0.html and\\nhttp://www.opensource.org/licenses/lgpl-2.1.php and\\nhttp://www.gnu.org/licenses/old-licenses/library.txt.\", \n",
    "    \"bios_ver_str\": \"07.61\", \n",
    "    \"kickstart_ver_str\": \"7.0(3)I7(3)\", \n",
    "    \"bios_cmpl_time\": \"04/06/2017\", \n",
    "    \"kick_file_name\": \"bootflash:///nxos.7.0.3.I7.3.bin\", \n",
    "    \"kick_cmpl_time\": \"2/12/2018 13:00:00\", \n",
    "    \"kick_tmstmp\": \"02/12/2018 19:13:48\", \n",
    "    \"chassis_id\": \"Nexus9000 C92160YC-X chassis\", \n",
    "    \"cpu_name\": \"Intel(R) Core(TM) i3- CPU @ 2.50GHz\", \n",
    "    \"memory\": \"16400992\", \n",
    "    \"mem_type\": \"kB\", \n",
    "    \"proc_board_id\": \"FDO21081J46\", \n",
    "    \"host_name\": \"BRU-AP1-LEAF1\", \n",
    "    \"bootflash_size\": \"53298520\", \n",
    "    \"kern_uptm_days\": \"12\", \n",
    "    \"kern_uptm_hrs\": \"3\", \n",
    "    \"kern_uptm_mins\": \"10\", \n",
    "    \"kern_uptm_secs\": \"18\", \n",
    "    \"rr_reason\": \"Unknown\", \n",
    "    \"rr_sys_ver\": \"7.0(3)I7(3)\", \n",
    "    \"rr_service\": null, \n",
    "    \"manufacturer\": \"Cisco Systems, Inc.\", \n",
    "    \"TABLE_package_list\": {\n",
    "        \"ROW_package_list\": {\n",
    "            \"package_id\": null\n",
    "        }\n",
    "    }\n",
    "}\n",
    "```\n",
    "\n",
    "Below is normal `show version` output:\n",
    "\n",
    "```\n",
    "BRU-AP1-LEAF1# show version\n",
    "Cisco Nexus Operating System (NX-OS) Software\n",
    "TAC support: http://www.cisco.com/tac\n",
    "Copyright (C) 2002-2018, Cisco and/or its affiliates.\n",
    "All rights reserved.\n",
    "The copyrights to certain works contained in this software are\n",
    "owned by other third parties and used and distributed under their own\n",
    "licenses, such as open source.  This software is provided \"as is,\" and unless\n",
    "otherwise stated, there is no warranty, express or implied, including but not\n",
    "limited to warranties of merchantability and fitness for a particular purpose.\n",
    "Certain components of this software are licensed under\n",
    "the GNU General Public License (GPL) version 2.0 or \n",
    "GNU General Public License (GPL) version 3.0  or the GNU\n",
    "Lesser General Public License (LGPL) Version 2.1 or \n",
    "Lesser General Public License (LGPL) Version 2.0. \n",
    "A copy of each such license is available at\n",
    "http://www.opensource.org/licenses/gpl-2.0.php and\n",
    "http://opensource.org/licenses/gpl-3.0.html and\n",
    "http://www.opensource.org/licenses/lgpl-2.1.php and\n",
    "http://www.gnu.org/licenses/old-licenses/library.txt.\n",
    "\n",
    "Software\n",
    "  BIOS: version 07.61\n",
    "  NXOS: version 7.0(3)I7(3)\n",
    "  BIOS compile time:  04/06/2017\n",
    "  NXOS image file is: bootflash:///nxos.7.0.3.I7.3.bin\n",
    "  NXOS compile time:  2/12/2018 13:00:00 [02/12/2018 19:13:48]\n",
    "\n",
    "\n",
    "Hardware\n",
    "  cisco Nexus9000 C92160YC-X chassis \n",
    "  Intel(R) Core(TM) i3- CPU @ 2.50GHz with 16400992 kB of memory.\n",
    "  Processor Board ID FDO21081J46\n",
    "\n",
    "  Device name: BRU-AP1-LEAF1\n",
    "  bootflash:   53298520 kB\n",
    "Kernel uptime is 13 day(s), 4 hour(s), 51 minute(s), 8 second(s)\n",
    "\n",
    "Last reset \n",
    "  Reason: Unknown\n",
    "  System version: 7.0(3)I7(3)\n",
    "  Service: \n",
    "\n",
    "plugin\n",
    "  Core Plugin, Ethernet Plugin\n",
    "\n",
    "Active Package(s):\n",
    "```"
   ]
  },
  {
   "cell_type": "markdown",
   "metadata": {},
   "source": [
    "### Task \n",
    "\n",
    "Copy and paste the output from the *`show version | json-pretty`* command (Without Copyright) into the Python shell saving it as a variable called **show_version_json_str**. It will need to be a multi-line string. Ensure that you use triple quotes to start and end the string.\n",
    "\n",
    "Note: use raw-literals - `r'string'` or `r\"\"\" string \"\"\"` -  in order to avoid issues with escaping new-line char (useful when we want to have a string that contains backslash and don't want it to be treated as an escape character)."
   ]
  },
  {
   "cell_type": "raw",
   "metadata": {},
   "source": [
    "data_dict = {\n",
    "    \"header_str\": \"Cisco Nexus Operating System (NX-OS) Software\\nTAC support: http://www.cisco.com/tac\\nCopyright (C) 2002-2018, Cisco and/or its affiliates.\\nAll rights reserved.\\nThe\n",
    " copyrights to certain works contained in this software are\\nowned by other third parties and used and distributed under their own\\nlicenses, such as open source.  This software is prov\n",
    "ided \\\"as is,\\\" and unless\\notherwise stated, there is no warranty, express or implied, including but not\\nlimited to warranties of merchantability and fitness for a particular purpose.\n",
    "\\nCertain components of this software are licensed under\\nthe GNU General Public License (GPL) version 2.0 or \\nGNU General Public License (GPL) version 3.0  or the GNU\\nLesser General \n",
    "Public License (LGPL) Version 2.1 or \\nLesser General Public License (LGPL) Version 2.0. \\nA copy of each such license is available at\\nhttp://www.opensource.org/licenses/gpl-2.0.php an\n",
    "d\\nhttp://opensource.org/licenses/gpl-3.0.html and\\nhttp://www.opensource.org/licenses/lgpl-2.1.php and\\nhttp://www.gnu.org/licenses/old-licenses/library.txt.\", \n",
    "    \"bios_ver_str\": \"07.61\", \n",
    "    \"kickstart_ver_str\": \"7.0(3)I7(3)\", \n",
    "    \"bios_cmpl_time\": \"04/06/2017\", \n",
    "    \"kick_file_name\": \"bootflash:///nxos.7.0.3.I7.3.bin\", \n",
    "    \"kick_cmpl_time\": \"2/12/2018 13:00:00\", \n",
    "    \"kick_tmstmp\": \"02/12/2018 19:13:48\", \n",
    "    \"chassis_id\": \"Nexus9000 C92160YC-X chassis\", \n",
    "    \"cpu_name\": \"Intel(R) Core(TM) i3- CPU @ 2.50GHz\", \n",
    "    \"memory\": \"16400992\", \n",
    "    \"mem_type\": \"kB\", \n",
    "    \"proc_board_id\": \"FDO21081J46\", \n",
    "    \"host_name\": \"BRU-AP1-LEAF1\", \n",
    "    \"bootflash_size\": \"53298520\", \n",
    "    \"kern_uptm_days\": \"12\", \n",
    "    \"kern_uptm_hrs\": \"3\", \n",
    "    \"kern_uptm_mins\": \"10\", \n",
    "    \"kern_uptm_secs\": \"18\", \n",
    "    \"rr_reason\": \"Unknown\", \n",
    "    \"rr_sys_ver\": \"7.0(3)I7(3)\", \n",
    "    \"rr_service\": null, \n",
    "    \"manufacturer\": \"Cisco Systems, Inc.\", \n",
    "    \"TABLE_package_list\": {\n",
    "        \"ROW_package_list\": {\n",
    "            \"package_id\": null\n",
    "        }\n",
    "    }\n",
    "}"
   ]
  },
  {
   "cell_type": "markdown",
   "metadata": {},
   "source": [
    "Using the same procedure as earlier, use `loads()` method to convert a JSON string to a dictionary.\n"
   ]
  },
  {
   "cell_type": "code",
   "execution_count": 10,
   "metadata": {},
   "outputs": [
    {
     "ename": "NameError",
     "evalue": "name 'loads' is not defined",
     "output_type": "error",
     "traceback": [
      "\u001b[0;31m---------------------------------------------------------------------------\u001b[0m",
      "\u001b[0;31mNameError\u001b[0m                                 Traceback (most recent call last)",
      "\u001b[0;32m<ipython-input-10-a5871a4e44c6>\u001b[0m in \u001b[0;36m<module>\u001b[0;34m\u001b[0m\n\u001b[0;32m----> 1\u001b[0;31m \u001b[0mdata_dict\u001b[0m \u001b[0;34m=\u001b[0m \u001b[0mloads\u001b[0m\u001b[0;34m(\u001b[0m\u001b[0mdata\u001b[0m\u001b[0;34m)\u001b[0m\u001b[0;34m\u001b[0m\u001b[0;34m\u001b[0m\u001b[0m\n\u001b[0m",
      "\u001b[0;31mNameError\u001b[0m: name 'loads' is not defined"
     ]
    }
   ],
   "source": [
    "data_dict = json.loads(data)"
   ]
  },
  {
   "cell_type": "markdown",
   "metadata": {},
   "source": [
    "Print device name and a running version:"
   ]
  },
  {
   "cell_type": "code",
   "execution_count": 13,
   "metadata": {},
   "outputs": [
    {
     "ename": "KeyError",
     "evalue": "('chassis_id', 'kickstart_ver_str')",
     "output_type": "error",
     "traceback": [
      "\u001b[0;31m---------------------------------------------------------------------------\u001b[0m",
      "\u001b[0;31mKeyError\u001b[0m                                  Traceback (most recent call last)",
      "\u001b[0;32m<ipython-input-13-a424b1faf072>\u001b[0m in \u001b[0;36m<module>\u001b[0;34m\u001b[0m\n\u001b[0;32m----> 1\u001b[0;31m \u001b[0mprint\u001b[0m \u001b[0;34m(\u001b[0m\u001b[0mdata_dict\u001b[0m\u001b[0;34m[\u001b[0m\u001b[0;34m'chassis_id'\u001b[0m\u001b[0;34m,\u001b[0m\u001b[0;34m'kickstart_ver_str'\u001b[0m\u001b[0;34m]\u001b[0m\u001b[0;34m)\u001b[0m\u001b[0;34m\u001b[0m\u001b[0;34m\u001b[0m\u001b[0m\n\u001b[0m",
      "\u001b[0;31mKeyError\u001b[0m: ('chassis_id', 'kickstart_ver_str')"
     ]
    }
   ],
   "source": [
    "data_dict['chassis_id','kickstart_ver_str']"
   ]
  },
  {
   "cell_type": "markdown",
   "metadata": {},
   "source": [
    "Modify dictionary and save it as a new JSON output"
   ]
  },
  {
   "cell_type": "code",
   "execution_count": 19,
   "metadata": {},
   "outputs": [
    {
     "ename": "NameError",
     "evalue": "name 'resp' is not defined",
     "output_type": "error",
     "traceback": [
      "\u001b[0;31m---------------------------------------------------------------------------\u001b[0m",
      "\u001b[0;31mNameError\u001b[0m                                 Traceback (most recent call last)",
      "\u001b[0;32m<ipython-input-19-db7425baf788>\u001b[0m in \u001b[0;36m<module>\u001b[0;34m\u001b[0m\n\u001b[0;32m----> 1\u001b[0;31m \u001b[0mresponse_json\u001b[0m \u001b[0;34m=\u001b[0m \u001b[0mresp\u001b[0m\u001b[0;34m.\u001b[0m\u001b[0mjosn\u001b[0m\u001b[0;34m(\u001b[0m\u001b[0;34m)\u001b[0m\u001b[0;34m\u001b[0m\u001b[0;34m\u001b[0m\u001b[0m\n\u001b[0m",
      "\u001b[0;31mNameError\u001b[0m: name 'resp' is not defined"
     ]
    }
   ],
   "source": [
    "response_json = resp.josn()"
   ]
  },
  {
   "cell_type": "markdown",
   "metadata": {},
   "source": [
    " \n",
    " \n",
    " \n",
    " \n",
    " \n",
    " \n",
    " \n",
    " \n",
    " \n",
    " \n",
    " \n",
    " \n",
    " \n",
    " \n",
    " \n",
    " \n",
    " \n",
    " \n",
    " "
   ]
  },
  {
   "cell_type": "markdown",
   "metadata": {},
   "source": [
    "--------"
   ]
  },
  {
   "cell_type": "markdown",
   "metadata": {},
   "source": [
    "## Part I- XML"
   ]
  },
  {
   "cell_type": "markdown",
   "metadata": {},
   "source": [
    "#### Basics of XML. In this part you will practise lxml and xmltodict module. This part is specially important when it comes to the NETCONF APIs (and other REST APIs) which are returning data as XML."
   ]
  },
  {
   "cell_type": "markdown",
   "metadata": {},
   "source": [
    "Nxosv switch SSH command, *`show version | xml`*.\n",
    "\n",
    "\n",
    "```\n",
    "BRU-AP1-LEAF1# show hostname | xml\n",
    "<?xml version=\"1.0\" encoding=\"ISO-8859-1\"?>\n",
    "<nf:rpc-reply xmlns=\"http://www.cisco.com/nxos:1.0:vdc_mgr\" xmlns:nf=\"urn:ietf:params:xml:ns:netconf:base:1.0\">\n",
    " <nf:data>\n",
    "  <show>\n",
    "   <__XML__BLK_Cmd_SHOW_HOSTNAME_hostname>\n",
    "    <__XML__OPT_Cmd_SHOW_HOSTNAME___readonly__>\n",
    "     <__readonly__>\n",
    "      <hostname>BRU-AP1-LEAF1</hostname>\n",
    "     </__readonly__>\n",
    "    </__XML__OPT_Cmd_SHOW_HOSTNAME___readonly__>\n",
    "   </__XML__BLK_Cmd_SHOW_HOSTNAME_hostname>\n",
    "  </show>\n",
    " </nf:data>\n",
    "</nf:rpc-reply>\n",
    "]]>]]>\n",
    "```\n"
   ]
  },
  {
   "cell_type": "code",
   "execution_count": null,
   "metadata": {},
   "outputs": [],
   "source": [
    "show_ver_xml_str = r\"\"\"\n",
    "<nf:rpc-reply xmlns=\"http://www.cisco.com/nxos:1.0:vdc_mgr\" xmlns:nf=\"urn:ietf:params:xml:ns:netconf:base:1.0\">\n",
    " <nf:data>\n",
    "  <show>\n",
    "   <__XML__BLK_Cmd_SHOW_HOSTNAME_hostname>\n",
    "    <__XML__OPT_Cmd_SHOW_HOSTNAME___readonly__>\n",
    "     <__readonly__>\n",
    "      <hostname>BRU-AP1-LEAF1</hostname>\n",
    "     </__readonly__>\n",
    "    </__XML__OPT_Cmd_SHOW_HOSTNAME___readonly__>\n",
    "   </__XML__BLK_Cmd_SHOW_HOSTNAME_hostname>\n",
    "  </show>\n",
    " </nf:data>\n",
    "</nf:rpc-reply>\n",
    "\"\"\""
   ]
  },
  {
   "cell_type": "markdown",
   "metadata": {},
   "source": [
    "\n",
    "## xmltodict Library \n",
    "\n",
    "xmltodict is a simple library that aims at making XML feel like working with JSON. \n",
    "\n",
    "### Step 1 \n",
    "\n",
    "Import xmltodict and load the xml string **show_ver_xml_str** into a Python dict*\n",
    "\n",
    "*_technically is a OrderDict_\n",
    "\n",
    "\n"
   ]
  },
  {
   "cell_type": "code",
   "execution_count": null,
   "metadata": {},
   "outputs": [],
   "source": [
    "import xmltodict\n",
    "from pprint import pprint \n",
    "\n",
    "show_vers_xml_dict = xmltodict.parse(show_ver_xml_str)\n",
    "pprint(show_vers_xml_dict)"
   ]
  },
  {
   "cell_type": "code",
   "execution_count": null,
   "metadata": {},
   "outputs": [],
   "source": [
    "show_vers_xml_dict['nf:rpc-reply']['nf:data']['show']['__XML__BLK_Cmd_SHOW_HOSTNAME_hostname']['__XML__OPT_Cmd_SHOW_HOSTNAME___readonly__']['__readonly__']['hostname']"
   ]
  },
  {
   "cell_type": "markdown",
   "metadata": {},
   "source": [
    "#### lxml library"
   ]
  },
  {
   "cell_type": "markdown",
   "metadata": {},
   "source": [
    "### Step 1\n",
    "XML string which simulate REST API response"
   ]
  },
  {
   "cell_type": "code",
   "execution_count": null,
   "metadata": {},
   "outputs": [],
   "source": [
    "xml_str = '<interfaces><interface>Eth1/1</interface></interfaces>'"
   ]
  },
  {
   "cell_type": "markdown",
   "metadata": {},
   "source": [
    "### Step 2\n",
    "\n",
    "Use the following statement to import the **etree** object from the **lxml** Python module. This object will allow you to convert XML strings to actual objects, and vice versa.\n",
    "\n",
    "If you don't have **lxml** module, use pip to install it"
   ]
  },
  {
   "cell_type": "code",
   "execution_count": null,
   "metadata": {},
   "outputs": [],
   "source": [
    "from lxml import etree"
   ]
  },
  {
   "cell_type": "markdown",
   "metadata": {},
   "source": [
    "### Step 3\n",
    "\n",
    "Convert **xml_str** to an actual XML object using the fromstring method.\n"
   ]
  },
  {
   "cell_type": "code",
   "execution_count": null,
   "metadata": {},
   "outputs": [],
   "source": [
    "xml_data = etree.fromstring(xml_str)"
   ]
  },
  {
   "cell_type": "markdown",
   "metadata": {},
   "source": [
    "### Step 4\n",
    "\n",
    "Verify the data types of both xml_str and xml_data.\n",
    "\n",
    "_Note: You should see the distinct difference that one is a string and one is an 'lxml.etree._Element' which is a native type of XML object in Python._"
   ]
  },
  {
   "cell_type": "code",
   "execution_count": null,
   "metadata": {},
   "outputs": [],
   "source": [
    "#Compare xml_str and xml_data type of data"
   ]
  },
  {
   "cell_type": "markdown",
   "metadata": {},
   "source": [
    "### Step 5\n",
    "Print xml_data. You can see here that it is an Element and the name of the element is always the top-level object in the XML tree.\n"
   ]
  },
  {
   "cell_type": "code",
   "execution_count": null,
   "metadata": {},
   "outputs": [],
   "source": [
    "print(xml_data)"
   ]
  },
  {
   "cell_type": "markdown",
   "metadata": {},
   "source": [
    "### Step 6\n",
    "\n",
    "Use the **.find()** method of `lxml.etree._Element` objects to search the full XML object for the interface object. Then print its value.\n",
    "\n"
   ]
  },
  {
   "cell_type": "code",
   "execution_count": null,
   "metadata": {},
   "outputs": [],
   "source": [
    "intf = xml_data.find('.//interface')\n",
    "intf"
   ]
  },
  {
   "cell_type": "code",
   "execution_count": null,
   "metadata": {},
   "outputs": [],
   "source": [
    "intf.text"
   ]
  },
  {
   "cell_type": "markdown",
   "metadata": {},
   "source": [
    "### Step 7\n",
    "\n",
    "Using the same procedure as earlier, use `etree.fromstring()` and the find method to print the hostname of the device.\n",
    "\n",
    "\n"
   ]
  },
  {
   "cell_type": "code",
   "execution_count": 18,
   "metadata": {},
   "outputs": [
    {
     "ename": "SyntaxError",
     "evalue": "invalid syntax (<ipython-input-18-b66b79cfbfb8>, line 1)",
     "output_type": "error",
     "traceback": [
      "\u001b[0;36m  File \u001b[0;32m\"<ipython-input-18-b66b79cfbfb8>\"\u001b[0;36m, line \u001b[0;32m1\u001b[0m\n\u001b[0;31m    show_ver_xml_data = '..' etree.fromstring()\u001b[0m\n\u001b[0m                                 ^\u001b[0m\n\u001b[0;31mSyntaxError\u001b[0m\u001b[0;31m:\u001b[0m invalid syntax\n"
     ]
    }
   ],
   "source": [
    "show_ver_xml_data = etree.fromstring() \n",
    "\n",
    "print(show_ver_xml_data)"
   ]
  },
  {
   "cell_type": "markdown",
   "metadata": {},
   "source": [
    "The major difference here is namespaces are being used. In order to use **find()** when namespaces are being used, you need to preface the object you searching for with the namespace:\n"
   ]
  },
  {
   "cell_type": "code",
   "execution_count": 1,
   "metadata": {},
   "outputs": [
    {
     "ename": "NameError",
     "evalue": "name 'show_ver_xml_data' is not defined",
     "output_type": "error",
     "traceback": [
      "\u001b[0;31m---------------------------------------------------------------------------\u001b[0m",
      "\u001b[0;31mNameError\u001b[0m                                 Traceback (most recent call last)",
      "\u001b[0;32m<ipython-input-1-53a89adf43be>\u001b[0m in \u001b[0;36m<module>\u001b[0;34m\u001b[0m\n\u001b[0;32m----> 1\u001b[0;31m \u001b[0mhostname\u001b[0m \u001b[0;34m=\u001b[0m \u001b[0mshow_ver_xml_data\u001b[0m\u001b[0;34m.\u001b[0m\u001b[0mfind\u001b[0m\u001b[0;34m(\u001b[0m\u001b[0;34m'.//{http://www.cisco.com/nxos:1.0:vdc_mgr}hostname'\u001b[0m\u001b[0;34m)\u001b[0m\u001b[0;34m\u001b[0m\u001b[0;34m\u001b[0m\u001b[0m\n\u001b[0m\u001b[1;32m      2\u001b[0m \u001b[0mhostname\u001b[0m\u001b[0;34m.\u001b[0m\u001b[0mtext\u001b[0m\u001b[0;34m\u001b[0m\u001b[0;34m\u001b[0m\u001b[0m\n",
      "\u001b[0;31mNameError\u001b[0m: name 'show_ver_xml_data' is not defined"
     ]
    }
   ],
   "source": [
    "hostname = show_ver_xml_data.find('.//{http://www.cisco.com/nxos:1.0:vdc_mgr}hostname')\n",
    "hostname.text"
   ]
  },
  {
   "cell_type": "markdown",
   "metadata": {},
   "source": [
    "There is another way to use namespace maps and even remove namespaces to improve this process. You will look at it as you dive deeper into NETCONF.\n"
   ]
  },
  {
   "cell_type": "code",
   "execution_count": null,
   "metadata": {},
   "outputs": [],
   "source": []
  },
  {
   "cell_type": "markdown",
   "metadata": {},
   "source": [
    " "
   ]
  },
  {
   "cell_type": "markdown",
   "metadata": {},
   "source": [
    " "
   ]
  }
 ],
 "metadata": {
  "kernelspec": {
   "display_name": "Python 3",
   "language": "python",
   "name": "python3"
  },
  "language_info": {
   "codemirror_mode": {
    "name": "ipython",
    "version": 3
   },
   "file_extension": ".py",
   "mimetype": "text/x-python",
   "name": "python",
   "nbconvert_exporter": "python",
   "pygments_lexer": "ipython3",
   "version": "3.7.1"
  }
 },
 "nbformat": 4,
 "nbformat_minor": 2
}
