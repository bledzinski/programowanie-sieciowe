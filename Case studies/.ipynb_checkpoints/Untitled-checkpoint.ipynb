{
 "cells": [
  {
   "cell_type": "code",
   "execution_count": 5,
   "metadata": {},
   "outputs": [],
   "source": [
    "list = []"
   ]
  },
  {
   "cell_type": "markdown",
   "metadata": {},
   "source": [
    "Tworzymy pustą listę."
   ]
  },
  {
   "cell_type": "code",
   "execution_count": 6,
   "metadata": {},
   "outputs": [],
   "source": [
    "file=open(\"devices.txt\",\"r\")"
   ]
  },
  {
   "cell_type": "markdown",
   "metadata": {},
   "source": [
    "Otwieramy plik devices"
   ]
  },
  {
   "cell_type": "code",
   "execution_count": 8,
   "metadata": {},
   "outputs": [
    {
     "name": "stdout",
     "output_type": "stream",
     "text": [
      "Cisco 819 Router\n",
      "Cisco 881 Router\n",
      "Cisco 888 Router\n",
      "Cisco 1100 Router\n",
      "Cisco 4321 Router\n",
      "Cisco 4331 Router\n",
      "Cisco 4351 Router\n",
      "Cisco 2960 Catalyst Switch\n",
      "Cisco 3850 Catalyst Switch\n",
      "Cisco 7700 Nexus Switch\n",
      "Cisco Meraki MS220-8 Cloud Managed Switch\n",
      "Cisco Meraki MX64W Security Appliance\n",
      "Cisco Meraki MX84 Security Appliance\n",
      "Cisco Meraki MC74 VoIP Phone\n",
      "Cisco 3860 Catalyst Switch\n"
     ]
    }
   ],
   "source": [
    "for item in file:\n",
    "    item = item.rstrip(\"\\n\")\n",
    "    list.append(item)\n",
    "    print(item)"
   ]
  },
  {
   "cell_type": "markdown",
   "metadata": {},
   "source": [
    "Tworzymy pętle dla każdej rzeczy w pliku usuwala puste spacje i dodawala do listy."
   ]
  },
  {
   "cell_type": "code",
   "execution_count": 9,
   "metadata": {},
   "outputs": [
    {
     "name": "stdout",
     "output_type": "stream",
     "text": [
      "['Cisco 819 Router', 'Cisco 881 Router', 'Cisco 888 Router', 'Cisco 1100 Router', 'Cisco 4321 Router', 'Cisco 4331 Router', 'Cisco 4351 Router', 'Cisco 2960 Catalyst Switch', 'Cisco 3850 Catalyst Switch', 'Cisco 7700 Nexus Switch', 'Cisco Meraki MS220-8 Cloud Managed Switch', 'Cisco Meraki MX64W Security Appliance', 'Cisco Meraki MX84 Security Appliance', 'Cisco Meraki MC74 VoIP Phone', 'Cisco 3860 Catalyst Switch']\n"
     ]
    }
   ],
   "source": [
    "file.close()"
   ]
  },
  {
   "cell_type": "markdown",
   "metadata": {},
   "source": [
    "Zamykam plik."
   ]
  },
  {
   "cell_type": "code",
   "execution_count": null,
   "metadata": {},
   "outputs": [],
   "source": [
    "print(list)"
   ]
  },
  {
   "cell_type": "markdown",
   "metadata": {},
   "source": [
    "Wypisujemy cała listę."
   ]
  },
  {
   "cell_type": "markdown",
   "metadata": {},
   "source": [
    "--- Cała reszta z zajęć ---"
   ]
  },
  {
   "cell_type": "code",
   "execution_count": 1,
   "metadata": {},
   "outputs": [
    {
     "name": "stdout",
     "output_type": "stream",
     "text": [
      "Cisco 819 Router\n",
      "\n",
      "Cisco 881 Router\n",
      "\n",
      "Cisco 888 Router\n",
      "\n",
      "Cisco 1100 Router\n",
      "\n",
      "Cisco 4321 Router\n",
      "\n",
      "Cisco 4331 Router\n",
      "\n",
      "Cisco 4351 Router\n",
      "\n",
      "Cisco 2960 Catalyst Switch\n",
      "\n",
      "Cisco 3850 Catalyst Switch\n",
      "\n",
      "Cisco 7700 Nexus Switch\n",
      "\n",
      "Cisco Meraki MS220-8 Cloud Managed Switch\n",
      "\n",
      "Cisco Meraki MX64W Security Appliance\n",
      "\n",
      "Cisco Meraki MX84 Security Appliance\n",
      "\n",
      "Cisco Meraki MC74 VoIP Phone\n",
      "\n",
      "Cisco 3860 Catalyst Switch\n",
      "\n"
     ]
    }
   ],
   "source": [
    "file=open(\"devices.txt\",\"r\")\n",
    "for item in file:\n",
    "    print(item)\n",
    "file.close()"
   ]
  },
  {
   "cell_type": "code",
   "execution_count": 2,
   "metadata": {},
   "outputs": [
    {
     "name": "stdout",
     "output_type": "stream",
     "text": [
      "Cisco 819 Router\n",
      "Cisco 881 Router\n",
      "Cisco 888 Router\n",
      "Cisco 1100 Router\n",
      "Cisco 4321 Router\n",
      "Cisco 4331 Router\n",
      "Cisco 4351 Router\n",
      "Cisco 2960 Catalyst Switch\n",
      "Cisco 3850 Catalyst Switch\n",
      "Cisco 7700 Nexus Switch\n",
      "Cisco Meraki MS220-8 Cloud Managed Switch\n",
      "Cisco Meraki MX64W Security Appliance\n",
      "Cisco Meraki MX84 Security Appliance\n",
      "Cisco Meraki MC74 VoIP Phone\n",
      "Cisco 3860 Catalyst Switch\n"
     ]
    }
   ],
   "source": [
    "file=open(\"devices.txt\",\"r\")\n",
    "for item in file:\n",
    "    item = item.rstrip(\"\\n\")\n",
    "    print(item)\n",
    "file.close()"
   ]
  },
  {
   "cell_type": "code",
   "execution_count": 7,
   "metadata": {},
   "outputs": [
    {
     "name": "stdout",
     "output_type": "stream",
     "text": [
      "Cisco 819 Router\n",
      "Cisco 881 Router\n",
      "Cisco 888 Router\n",
      "Cisco 1100 Router\n",
      "Cisco 4321 Router\n",
      "Cisco 4331 Router\n",
      "Cisco 4351 Router\n",
      "Cisco 2960 Catalyst Switch\n",
      "Cisco 3850 Catalyst Switch\n",
      "Cisco 7700 Nexus Switch\n",
      "Cisco Meraki MS220-8 Cloud Managed Switch\n",
      "Cisco Meraki MX64W Security Appliance\n",
      "Cisco Meraki MX84 Security Appliance\n",
      "Cisco Meraki MC74 VoIP Phone\n",
      "Cisco 3860 Catalyst Switch\n",
      "['Cisco 819 Router', 'Cisco 881 Router', 'Cisco 888 Router', 'Cisco 1100 Router', 'Cisco 4321 Router', 'Cisco 4331 Router', 'Cisco 4351 Router', 'Cisco 2960 Catalyst Switch', 'Cisco 3850 Catalyst Switch', 'Cisco 7700 Nexus Switch', 'Cisco Meraki MS220-8 Cloud Managed Switch', 'Cisco Meraki MX64W Security Appliance', 'Cisco Meraki MX84 Security Appliance', 'Cisco Meraki MC74 VoIP Phone', 'Cisco 3860 Catalyst Switch']\n"
     ]
    }
   ],
   "source": [
    "list = []\n",
    "file=open(\"devices.txt\",\"r\")\n",
    "for item in file:\n",
    "    item = item.rstrip(\"\\n\")\n",
    "    list.append(item)\n",
    "    print(item)\n",
    "file.close()\n",
    "print(list)"
   ]
  },
  {
   "cell_type": "code",
   "execution_count": null,
   "metadata": {},
   "outputs": [],
   "source": []
  }
 ],
 "metadata": {
  "kernelspec": {
   "display_name": "Python 3",
   "language": "python",
   "name": "python3"
  },
  "language_info": {
   "codemirror_mode": {
    "name": "ipython",
    "version": 3
   },
   "file_extension": ".py",
   "mimetype": "text/x-python",
   "name": "python",
   "nbconvert_exporter": "python",
   "pygments_lexer": "ipython3",
   "version": "3.7.0"
  }
 },
 "nbformat": 4,
 "nbformat_minor": 2
}
