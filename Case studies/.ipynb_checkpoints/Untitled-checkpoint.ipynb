{
 "cells": [
  {
   "cell_type": "code",
   "execution_count": 2,
   "metadata": {},
   "outputs": [
    {
     "name": "stdout",
     "output_type": "stream",
     "text": [
      "Cisco 819 Router\n",
      "\n",
      "Cisco 881 Router\n",
      "\n",
      "Cisco 888 Router\n",
      "\n",
      "Cisco 1100 Router\n",
      "\n",
      "Cisco 4321 Router\n",
      "\n",
      "Cisco 4331 Router\n",
      "\n",
      "Cisco 4351 Router\n",
      "\n",
      "Cisco 2960 Catalyst Switch\n",
      "\n",
      "Cisco 3850 Catalyst Switch\n",
      "\n",
      "Cisco 7700 Nexus Switch\n",
      "\n",
      "Cisco Meraki MS220-8 Cloud Managed Switch\n",
      "\n",
      "Cisco Meraki MX64W Security Appliance\n",
      "\n",
      "Cisco Meraki MX84 Security Appliance\n",
      "\n",
      "Cisco Meraki MC74 VoIP Phone\n",
      "\n",
      "Cisco 3860 Catalyst Switch\n",
      "\n"
     ]
    }
   ],
   "source": [
    "file=open(\"devices.txt\",\"r\")\n",
    "for item in file:\n",
    "    print(item)\n",
    "file.close()"
   ]
  },
  {
   "cell_type": "code",
   "execution_count": null,
   "metadata": {},
   "outputs": [],
   "source": [
    "file=open(\"devices.txt\",\"r\")\n",
    "for item in file:\n",
    "    item = item.rstrip(\"\\n\")\n",
    "    print(item)\n",
    "file.close()"
   ]
  },
  {
   "cell_type": "code",
   "execution_count": null,
   "metadata": {},
   "outputs": [],
   "source": []
  }
 ],
 "metadata": {
  "kernelspec": {
   "display_name": "Python 3",
   "language": "python",
   "name": "python3"
  },
  "language_info": {
   "codemirror_mode": {
    "name": "ipython",
    "version": 3
   },
   "file_extension": ".py",
   "mimetype": "text/x-python",
   "name": "python",
   "nbconvert_exporter": "python",
   "pygments_lexer": "ipython3",
   "version": "3.7.0"
  }
 },
 "nbformat": 4,
 "nbformat_minor": 2
}
